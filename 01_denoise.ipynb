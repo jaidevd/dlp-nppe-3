{
 "cells": [
  {
   "cell_type": "code",
   "execution_count": null,
   "id": "3d7f0518-2e1d-449c-ade1-5481fb0af743",
   "metadata": {},
   "outputs": [],
   "source": [
    "import os\n",
    "import torch\n",
    "import torch.optim as optim\n",
    "from torch.utils.data import DataLoader\n",
    "from tqdm import tqdm\n",
    "from torchvision.io import read_image\n",
    "from torchvision.transforms.v2.functional import to_pil_image, to_dtype\n",
    "\n",
    "from utils import EnhanceDataset, collate_denoise\n",
    "from mprnet import MPRNet, CharbonnierLoss\n",
    "\n",
    "device = torch.device(\"cuda\" if torch.cuda.is_available() else \"cpu\")"
   ]
  },
  {
   "cell_type": "markdown",
   "id": "7de5c401-2da3-423c-9508-4e5ce4feb33c",
   "metadata": {},
   "source": [
    "## Train the MPRNet"
   ]
  },
  {
   "cell_type": "code",
   "execution_count": null,
   "id": "e1eaf0ee-cf07-4ac3-9205-29bf8a9cda7f",
   "metadata": {},
   "outputs": [],
   "source": [
    "# Model, optimizer and loss\n",
    "model = MPRNet().to(device)\n",
    "optimizer = optim.Adam(\n",
    "    model.parameters(), lr=1e-4, betas=(0.9, 0.999), eps=1e-8,\n",
    "    weight_decay=1e-8\n",
    ")\n",
    "criterion = CharbonnierLoss()\n",
    "\n",
    "# datasets and loaders\n",
    "batch_size = 3\n",
    "train_dataset = EnhanceDataset(\"archive/train/train\", \"archive/train/gt\")\n",
    "train_loader = DataLoader(\n",
    "    dataset=train_dataset, batch_size=batch_size, shuffle=True,\n",
    "    collate_fn=collate_denoise, pin_memory=True\n",
    ")\n",
    "\n",
    "val_dataset = EnhanceDataset(\"archive/val/val\", \"archive/val/gt\")\n",
    "val_loader = DataLoader(\n",
    "    dataset=val_dataset, batch_size=batch_size, shuffle=True,\n",
    "    collate_fn=collate_denoise, pin_memory=True\n",
    ")"
   ]
  },
  {
   "cell_type": "code",
   "execution_count": null,
   "id": "27c6954a-a842-4b05-be2c-47bdad9598a2",
   "metadata": {},
   "outputs": [],
   "source": [
    "# Training parameters\n",
    "n_epochs = 30\n",
    "stepper = optim.lr_scheduler.StepLR(optimizer, step_size=10, gamma=0.1)\n",
    "\n",
    "\n",
    "for epoch in range(n_epochs):\n",
    "    epoch_train_loss = epoch_val_loss = 0\n",
    "    with tqdm(total=len(train_loader) + len(val_loader)) as pbar:\n",
    "        model.train()\n",
    "        for input_, target in train_loader:\n",
    "            optimizer.zero_grad()\n",
    "            restored = model(input_.to(device))\n",
    "            loss = sum(\n",
    "                [\n",
    "                    criterion(torch.clamp(restored[j], 0, 1), target.to(device))\n",
    "                    for j in range(len(restored))\n",
    "                ]\n",
    "            )\n",
    "            loss.backward()\n",
    "            optimizer.step()\n",
    "            litem = loss.item()\n",
    "            epoch_train_loss += litem\n",
    "            pbar.set_postfix_str(f\"train loss: {litem:.4f}\")\n",
    "            pbar.update(1)\n",
    "\n",
    "        model.eval()\n",
    "        for input_, target in val_loader:\n",
    "            with torch.no_grad():\n",
    "                restored = model(input_.to(device))\n",
    "            loss = sum(\n",
    "                [\n",
    "                    criterion(torch.clamp(restored[j], 0, 1), target.to(device))\n",
    "                    for j in range(len(restored))\n",
    "                ]\n",
    "            )\n",
    "            litem = loss.item()\n",
    "            epoch_val_loss += litem\n",
    "            pbar.set_postfix_str(f\"val loss: {litem:.4f}\")\n",
    "            pbar.update(1)\n",
    "        stepper.step()\n",
    "\n",
    "    print(  # NOQA: T201\n",
    "        \"Epoch {} Train Loss: {:.4f}; Val Loss: {:.4f}\".format(\n",
    "            epoch,\n",
    "            epoch_train_loss / len(train_loader),\n",
    "            epoch_val_loss / len(val_loader),\n",
    "        )\n",
    "    )\n",
    "os.makedirs(\"models\", exist_ok=True)\n",
    "torch.save(model, \"models/mprnet-denoiser.pt\")"
   ]
  },
  {
   "cell_type": "markdown",
   "id": "db5ee28c-5f2a-47cb-9d2b-deff11d720b2",
   "metadata": {},
   "source": [
    "## Denoise the test dataset"
   ]
  },
  {
   "cell_type": "code",
   "execution_count": null,
   "id": "45f50a34-d30b-4f79-8459-a8ab7ffb7c2f",
   "metadata": {},
   "outputs": [],
   "source": [
    "op = os.path\n",
    "PATHS = [\n",
    "    \"archive/train/train\",\n",
    "    \"archive/val/val\",\n",
    "    \"archive/test/\",\n",
    "]\n",
    "for outpaths in ['denoised/train/train', 'denoised/val/val', 'denoised/test']:\n",
    "    os.makedirs(outpaths, exist_ok=True)\n",
    "\n",
    "device = torch.device('cuda' if torch.cuda.is_available() else 'cpu')\n",
    "\n",
    "model = torch.load(\"models/mprnet-denoiser.pt\")\n",
    "for path in PATHS:\n",
    "    files = [op.join(path, f) for f in os.listdir(path)]\n",
    "    for file in tqdm(files):\n",
    "        outpath = file.replace('archive/', 'denoised/')\n",
    "        image = read_image(file)\n",
    "        image = to_dtype(image, torch.float32, scale=True)\n",
    "        with torch.no_grad():\n",
    "            denoised, _, _ = model(image.unsqueeze(0).to(device))\n",
    "        denoised = to_pil_image(denoised.squeeze(0), mode='RGB')\n",
    "        denoised.save(outpath)"
   ]
  }
 ],
 "metadata": {
  "kernelspec": {
   "display_name": "Python 3 (ipykernel)",
   "language": "python",
   "name": "python3"
  },
  "language_info": {
   "codemirror_mode": {
    "name": "ipython",
    "version": 3
   },
   "file_extension": ".py",
   "mimetype": "text/x-python",
   "name": "python",
   "nbconvert_exporter": "python",
   "pygments_lexer": "ipython3",
   "version": "3.9.18"
  }
 },
 "nbformat": 4,
 "nbformat_minor": 5
}
